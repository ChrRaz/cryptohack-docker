{
 "cells": [
  {
   "cell_type": "code",
   "execution_count": null,
   "metadata": {},
   "outputs": [],
   "source": [
    "from Crypto.Util.number import *\n",
    "from pwn import *\n",
    "import json\n",
    "\n",
    "context.log_level = \"debug\"\n",
    "r = remote(\"socket.cryptohack.org\", 11112)\n",
    "\n",
    "r.recvuntil('ok.\\n\\n')\n",
    "\n",
    "p = {\"buy\": \"something\"}\n",
    "r.sendline(json.dumps(p))\n",
    "r.recvline()"
   ]
  }
 ],
 "metadata": {
  "kernelspec": {
   "display_name": "SageMath 9.0",
   "language": "sage",
   "name": "sagemath"
  },
  "language_info": {
   "codemirror_mode": {
    "name": "ipython",
    "version": 3
   },
   "file_extension": ".py",
   "mimetype": "text/x-python",
   "name": "python",
   "nbconvert_exporter": "python",
   "pygments_lexer": "ipython3",
   "version": "3.7.3"
  }
 },
 "nbformat": 4,
 "nbformat_minor": 2
}
